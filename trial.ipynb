{
 "cells": [
  {
   "cell_type": "code",
   "execution_count": 1,
   "metadata": {},
   "outputs": [],
   "source": [
    "from Helper import *\n",
    "from Transacttions import *\n",
    "from Block import *"
   ]
  },
  {
   "cell_type": "code",
   "execution_count": 3,
   "metadata": {},
   "outputs": [
    {
     "data": {
      "text/plain": [
       "{'version': 2,\n",
       " 'locktime': 0,\n",
       " 'vin': [{'txid': '64ca1941edef34b690dd6672c7d395c60882067f7f3fc396e64d88e39c1da5b4',\n",
       "   'vout': 0,\n",
       "   'prevout': {'scriptpubkey': '0014d5bfb7a6d05d44c1e14443919b30d284c0c0a10a',\n",
       "    'scriptpubkey_asm': 'OP_0 OP_PUSHBYTES_20 d5bfb7a6d05d44c1e14443919b30d284c0c0a10a',\n",
       "    'scriptpubkey_type': 'v0_p2wpkh',\n",
       "    'scriptpubkey_address': 'bc1q6klm0fkst4zvrc2ygwgekvxjsnqvpgg2jjfurm',\n",
       "    'value': 10740},\n",
       "   'scriptsig': '',\n",
       "   'scriptsig_asm': '',\n",
       "   'witness': ['3044022100884219ecbb54a6ec4d09597ca6aca49692ded3c2ffb13d1858ca5b70e59fabb4021f2de73021471a01d8f03a71a923b662f00120d181d0f7fa8e06faa1bb750e8f01',\n",
       "    '0271d4e7a84804c075017593271c370e8983f704f123d22aa747cd321268981cba'],\n",
       "   'is_coinbase': False,\n",
       "   'sequence': 4294967293}],\n",
       " 'vout': [{'scriptpubkey': 'a91450feb99697a4901d3fe082eca341204fb6711b9487',\n",
       "   'scriptpubkey_asm': 'OP_HASH160 OP_PUSHBYTES_20 50feb99697a4901d3fe082eca341204fb6711b94 OP_EQUAL',\n",
       "   'scriptpubkey_type': 'p2sh',\n",
       "   'scriptpubkey_address': '395H8VPYPtAoZWa2bx5SRyN2VojXrsb7j3',\n",
       "   'value': 9520}]}"
      ]
     },
     "execution_count": 3,
     "metadata": {},
     "output_type": "execute_result"
    }
   ],
   "source": [
    "all_files= list_all_tx()\n",
    "all_files[0]"
   ]
  },
  {
   "cell_type": "code",
   "execution_count": 4,
   "metadata": {},
   "outputs": [
    {
     "data": {
      "text/plain": [
       "{'version': 2,\n",
       " 'locktime': 0,\n",
       " 'vin': [{'txid': '64ca1941edef34b690dd6672c7d395c60882067f7f3fc396e64d88e39c1da5b4',\n",
       "   'vout': 0,\n",
       "   'prevout': {'scriptpubkey': '0014d5bfb7a6d05d44c1e14443919b30d284c0c0a10a',\n",
       "    'scriptpubkey_asm': 'OP_0 OP_PUSHBYTES_20 d5bfb7a6d05d44c1e14443919b30d284c0c0a10a',\n",
       "    'scriptpubkey_type': 'v0_p2wpkh',\n",
       "    'scriptpubkey_address': 'bc1q6klm0fkst4zvrc2ygwgekvxjsnqvpgg2jjfurm',\n",
       "    'value': 10740},\n",
       "   'scriptsig': '',\n",
       "   'scriptsig_asm': '',\n",
       "   'witness': ['3044022100884219ecbb54a6ec4d09597ca6aca49692ded3c2ffb13d1858ca5b70e59fabb4021f2de73021471a01d8f03a71a923b662f00120d181d0f7fa8e06faa1bb750e8f01',\n",
       "    '0271d4e7a84804c075017593271c370e8983f704f123d22aa747cd321268981cba'],\n",
       "   'is_coinbase': False,\n",
       "   'sequence': 4294967293,\n",
       "   'sequence_result': {'rbf': True, 'relative_locktime': False}}],\n",
       " 'vout': [{'scriptpubkey': 'a91450feb99697a4901d3fe082eca341204fb6711b9487',\n",
       "   'scriptpubkey_asm': 'OP_HASH160 OP_PUSHBYTES_20 50feb99697a4901d3fe082eca341204fb6711b94 OP_EQUAL',\n",
       "   'scriptpubkey_type': 'p2sh',\n",
       "   'scriptpubkey_address': '395H8VPYPtAoZWa2bx5SRyN2VojXrsb7j3',\n",
       "   'value': 9520}],\n",
       " 'is_segwit': True,\n",
       " 'fee': 1220,\n",
       " 'fee_rate': 2.766439909297052,\n",
       " 'weights': 441}"
      ]
     },
     "execution_count": 4,
     "metadata": {},
     "output_type": "execute_result"
    }
   ],
   "source": [
    "new_files= Tx.modified_tx_files(all_files)\n",
    "new_files[0]"
   ]
  },
  {
   "cell_type": "code",
   "execution_count": 8,
   "metadata": {},
   "outputs": [
    {
     "data": {
      "text/plain": [
       "{'version': 2,\n",
       " 'locktime': 0,\n",
       " 'vin': [{'txid': 'e3acb27a9fb6593822a4d8bbb8be9f9516e33123f196a41fc2801a9cae278ba4',\n",
       "   'vout': 0,\n",
       "   'prevout': {'scriptpubkey': '5120d7b0161160dc8ce46dfbf55c602ffeef5ed4ebcadebbe077918819b0aa1b73e6',\n",
       "    'scriptpubkey_asm': 'OP_PUSHNUM_1 OP_PUSHBYTES_32 d7b0161160dc8ce46dfbf55c602ffeef5ed4ebcadebbe077918819b0aa1b73e6',\n",
       "    'scriptpubkey_type': 'v1_p2tr',\n",
       "    'scriptpubkey_address': 'bc1p67cpvytqmjxwgm0m74wxqtl7aa0df672m6a7qau33qvmp2smw0nqrgxc8d',\n",
       "    'value': 546},\n",
       "   'scriptsig': '',\n",
       "   'scriptsig_asm': '',\n",
       "   'witness': ['265f6c3128efad948b8e1d11e1cd165c457e9e5da32f0e4093d81221aa6ecd6ec9bebbda812f4aa8c2caabf50575d22b551cd95d27ec015031950589869b5d26'],\n",
       "   'is_coinbase': False,\n",
       "   'sequence': 2147483649,\n",
       "   'sequence_result': {'rbf': True, 'relative_locktime': False}},\n",
       "  {'txid': 'ef575d36c46466f419678345bd0fc17d65cc1a5741a47ac272d9e329dab7c0c9',\n",
       "   'vout': 1,\n",
       "   'prevout': {'scriptpubkey': '5120d7b0161160dc8ce46dfbf55c602ffeef5ed4ebcadebbe077918819b0aa1b73e6',\n",
       "    'scriptpubkey_asm': 'OP_PUSHNUM_1 OP_PUSHBYTES_32 d7b0161160dc8ce46dfbf55c602ffeef5ed4ebcadebbe077918819b0aa1b73e6',\n",
       "    'scriptpubkey_type': 'v1_p2tr',\n",
       "    'scriptpubkey_address': 'bc1p67cpvytqmjxwgm0m74wxqtl7aa0df672m6a7qau33qvmp2smw0nqrgxc8d',\n",
       "    'value': 1811712},\n",
       "   'scriptsig': '',\n",
       "   'scriptsig_asm': '',\n",
       "   'witness': ['8b8b8a72ac3d38c85fb59b0ba462d6a4ef39b73bd86a3ac8a300e5ab52033729ecd442e2b0eb5aba0ba9111ad0bccbdb4d24483caf482ebe6d2b819825f27731'],\n",
       "   'is_coinbase': False,\n",
       "   'sequence': 2147483649,\n",
       "   'sequence_result': {'rbf': True, 'relative_locktime': False}}],\n",
       " 'vout': [{'scriptpubkey': '5120d7b0161160dc8ce46dfbf55c602ffeef5ed4ebcadebbe077918819b0aa1b73e6',\n",
       "   'scriptpubkey_asm': 'OP_PUSHNUM_1 OP_PUSHBYTES_32 d7b0161160dc8ce46dfbf55c602ffeef5ed4ebcadebbe077918819b0aa1b73e6',\n",
       "   'scriptpubkey_type': 'v1_p2tr',\n",
       "   'scriptpubkey_address': 'bc1p67cpvytqmjxwgm0m74wxqtl7aa0df672m6a7qau33qvmp2smw0nqrgxc8d',\n",
       "   'value': 546},\n",
       "  {'scriptpubkey': '5120d7b0161160dc8ce46dfbf55c602ffeef5ed4ebcadebbe077918819b0aa1b73e6',\n",
       "   'scriptpubkey_asm': 'OP_PUSHNUM_1 OP_PUSHBYTES_32 d7b0161160dc8ce46dfbf55c602ffeef5ed4ebcadebbe077918819b0aa1b73e6',\n",
       "   'scriptpubkey_type': 'v1_p2tr',\n",
       "   'scriptpubkey_address': 'bc1p67cpvytqmjxwgm0m74wxqtl7aa0df672m6a7qau33qvmp2smw0nqrgxc8d',\n",
       "   'value': 1809391}],\n",
       " 'is_segwit': True,\n",
       " 'fee': 2321,\n",
       " 'fee_rate': 2.2231800766283527,\n",
       " 'weights': 1044}"
      ]
     },
     "execution_count": 8,
     "metadata": {},
     "output_type": "execute_result"
    }
   ],
   "source": [
    "new_files[4]"
   ]
  },
  {
   "cell_type": "code",
   "execution_count": null,
   "metadata": {},
   "outputs": [],
   "source": []
  }
 ],
 "metadata": {
  "kernelspec": {
   "display_name": "Python 3",
   "language": "python",
   "name": "python3"
  },
  "language_info": {
   "codemirror_mode": {
    "name": "ipython",
    "version": 3
   },
   "file_extension": ".py",
   "mimetype": "text/x-python",
   "name": "python",
   "nbconvert_exporter": "python",
   "pygments_lexer": "ipython3",
   "version": "3.11.6"
  }
 },
 "nbformat": 4,
 "nbformat_minor": 2
}
