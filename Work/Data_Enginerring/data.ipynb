{
 "cells": [
  {
   "cell_type": "markdown",
   "metadata": {},
   "source": []
  },
  {
   "cell_type": "code",
   "execution_count": 3,
   "metadata": {},
   "outputs": [
    {
     "name": "stdout",
     "output_type": "stream",
     "text": [
      "hello\n"
     ]
    },
    {
     "data": {
      "text/plain": [
       "bytes"
      ]
     },
     "execution_count": 3,
     "metadata": {},
     "output_type": "execute_result"
    }
   ],
   "source": [
    "print(\"hello\")\n",
    "bytes"
   ]
  },
  {
   "cell_type": "code",
   "execution_count": 1,
   "metadata": {},
   "outputs": [
    {
     "data": {
      "text/plain": [
       "bytes"
      ]
     },
     "execution_count": 1,
     "metadata": {},
     "output_type": "execute_result"
    }
   ],
   "source": [
    "import os\n",
    "import json\n",
    "\n",
    "from Work.Helper import little_endian_to_int,list_all_tx,int_to_little_endian\n",
    "\n",
    "all_files= list_all_tx() \n",
    "\n",
    "    \n",
    "   \n",
    "   \n",
    "bytes"
   ]
  },
  {
   "cell_type": "code",
   "execution_count": 5,
   "metadata": {},
   "outputs": [
    {
     "data": {
      "text/plain": [
       "{'bare-multisig',\n",
       " 'op_return',\n",
       " 'p2pkh',\n",
       " 'p2sh',\n",
       " 'v0_p2wpkh',\n",
       " 'v0_p2wsh',\n",
       " 'v1_p2tr'}"
      ]
     },
     "execution_count": 5,
     "metadata": {},
     "output_type": "execute_result"
    }
   ],
   "source": [
    "scriptpubkey_types=set()\n",
    "\n",
    "for tx in all_files:\n",
    "  for section in [\"vin\", \"vout\"]:\n",
    "    for item in tx[section]:\n",
    "        if section == \"vin\":     \n",
    "          scriptpubkey_types.add(item[\"prevout\"][\"scriptpubkey_type\"])\n",
    "        else:  \n",
    "           scriptpubkey_types.add(item[\"scriptpubkey_type\"])\n",
    "scriptpubkey_types  \n",
    "          \n"
   ]
  },
  {
   "cell_type": "code",
   "execution_count": 6,
   "metadata": {},
   "outputs": [
    {
     "name": "stdout",
     "output_type": "stream",
     "text": [
      "set()\n",
      "{0}\n"
     ]
    }
   ],
   "source": [
    "# op_return -> \n",
    "op_return_in_input=set()\n",
    "op_return_in_output=set()\n",
    "\n",
    "\n",
    "\n",
    "for tx in all_files:\n",
    "  for section in [\"vin\", \"vout\"]:\n",
    "    for item in tx[section]:\n",
    "        if section == \"vin\":  \n",
    "          if (item[\"prevout\"][\"scriptpubkey_type\"])=='op_return':\n",
    "             op_return_in_input.add(item[\"prevout\"][\"value\"])\n",
    "             \n",
    "          scriptpubkey_types.add(item[\"prevout\"][\"scriptpubkey_type\"])\n",
    "        else:\n",
    "            if (item[\"scriptpubkey_type\"])=='op_return':\n",
    "             op_return_in_output.add(item[\"value\"])\n",
    "               \n",
    "print(op_return_in_input)\n",
    "print(op_return_in_output)\n"
   ]
  },
  {
   "cell_type": "code",
   "execution_count": 7,
   "metadata": {},
   "outputs": [
    {
     "name": "stdout",
     "output_type": "stream",
     "text": [
      "0\n"
     ]
    }
   ],
   "source": [
    "# is 0 value in vin -> \n",
    "count=0\n",
    "for tx in all_files:\n",
    "  for item in tx[\"vin\"]:            \n",
    "          if (item[\"prevout\"][\"value\"])==0:\n",
    "             count+=1\n",
    "             \n",
    "print(count) \n",
    "\n"
   ]
  },
  {
   "cell_type": "markdown",
   "metadata": {},
   "source": [
    "### No value 0 in input field\n"
   ]
  },
  {
   "cell_type": "markdown",
   "metadata": {},
   "source": []
  },
  {
   "cell_type": "markdown",
   "metadata": {},
   "source": [
    "#### Investigating `unknown` keyword in `scriptpubkey-type`:\n"
   ]
  },
  {
   "cell_type": "code",
   "execution_count": 8,
   "metadata": {},
   "outputs": [
    {
     "name": "stdout",
     "output_type": "stream",
     "text": [
      "unknown keyword present : {'vin': 0, 'vout': 0}\n",
      "unique_commands for the unknown type at the end {'OP_CHECKMULTISIG'}\n",
      "{'ae'}\n"
     ]
    }
   ],
   "source": [
    "### First we will check that these keyword are present in both inputs and outputs field or not> \n",
    "\n",
    "\n",
    "unknown_keyword= {\n",
    "   \"vin\":0,\n",
    "   \"vout\":0\n",
    "}\n",
    "\n",
    "unique_commands_for_unknown=set()\n",
    "trial=set()\n",
    "\n",
    "for tx in all_files:\n",
    "  for section in [\"vin\", \"vout\"]:\n",
    "    for item in tx[section]:\n",
    "        if section == \"vout\" and  item[\"scriptpubkey_type\"]==\"unknown\":     \n",
    "          unknown_keyword[\"vout\"]+=1\n",
    "        if section == \"vin\" and  item[\"prevout\"][\"scriptpubkey_type\"]==\"unknown\":  \n",
    "            unknown_keyword[\"vin\"]+=1\n",
    "\n",
    "        #### In some places , \"unknown\" keyword is written inside the scriptpubkey_type \n",
    "        ### -> but it is actually Multisig as shown ->\n",
    "        \n",
    "        \n",
    "        if section == \"vout\":\n",
    "           if item[\"scriptpubkey_type\"]==\"bare-multisig\":\n",
    "              unique_commands_for_unknown.add(item[\"scriptpubkey_asm\"].split()[-1])\n",
    "              trial.add(item[\"scriptpubkey\"][-2:])\n",
    "              \n",
    "\n",
    "print(\"unknown keyword present : {}\".format(unknown_keyword))   \n",
    "print(\"unique_commands for the unknown type at the end {}\".format(unique_commands_for_unknown))\n",
    "print(trial)\n"
   ]
  },
  {
   "cell_type": "code",
   "execution_count": 9,
   "metadata": {},
   "outputs": [],
   "source": [
    "for file in all_files:\n",
    "    for output in file[\"vout\"]:\n",
    "        script_type = output[\"scriptpubkey_type\"]\n",
    "        if script_type == \"unknown\":\n",
    "            output[\"scriptpubkey_type\"] = \"multisig\"\n"
   ]
  },
  {
   "cell_type": "code",
   "execution_count": 10,
   "metadata": {},
   "outputs": [],
   "source": [
    "### Thus replace `unknown` keyword to `bare-multisig` scriptpubkey-type\n",
    "\n",
    "folder_path = \"./mempool\"\n",
    "\n",
    "for filename in os.listdir(folder_path):\n",
    "    file_path = os.path.join(folder_path, filename)\n",
    "    with open(file_path, 'r') as f:\n",
    "        data = json.load(f)\n",
    "    \n",
    "    for output in data[\"vout\"]:\n",
    "        script_type = output[\"scriptpubkey_type\"]\n",
    "        if script_type == \"unknown\":\n",
    "            output[\"scriptpubkey_type\"] = \"bare-multisig\"\n",
    "    \n",
    "    with open(file_path, 'w') as f:\n",
    "        json.dump(data, f, indent=4)\n"
   ]
  },
  {
   "cell_type": "markdown",
   "metadata": {},
   "source": [
    "---\n"
   ]
  },
  {
   "cell_type": "markdown",
   "metadata": {},
   "source": [
    "#### Version && Locktime(absolute)->\n"
   ]
  },
  {
   "cell_type": "code",
   "execution_count": 11,
   "metadata": {},
   "outputs": [
    {
     "name": "stdout",
     "output_type": "stream",
     "text": [
      "{1: 2259, 2: 5872}\n",
      "{0: 32, 1: 29, 4443: 475, 4994: 34, 86695: 15, 160346: 418, 1516297: 220, 2559669: 4, 5860418: 8, 6746720: 360, 6777465: 178, 11617556: 5, 11851132: 12, 11910301: 513, 12311610: 220, 13424498: 17, 19526132: 232, 20230627: 3, 21176520: 20, 41617237: 15, 79593512: 13, 132648800: 8, 268435456: 29, 338499383: 21, 357913941: 349, 469337440: 42, 536870911: 442, 651726258: 69, 652251065: 2, 715827882: 57, 724759630: 659, 751167129: 9, 756373883: 8, 910345399: 20, 929525068: 34, 1073741822: 11, 1073745840: 85, 1078771002: 458, 1115905731: 11, 1227143699: 12, 1288490187: 220, 1407676897: 468, 1524582426: 1, 1601075568: 822, 1610612733: 10, 1610613036: 6, 1610616404: 344, 1656665503: 49, 1762298852: 20, 1798317181: 3, 1874281885: 28, 1879051786: 321, 1927488287: 135, 1986185223: 265, 2147483644: 79, 2147483648: 53, 2147483649: 5, 2147483667: 9, 2147483669: 380, 2147483680: 2, 2147483684: 216, 2147483687: 5, 2147483695: 2, 2147483705: 34, 2147483718: 89, 2147483720: 469, 2147483725: 506, 2147483744: 59, 2147483767: 8, 2147483778: 22, 2147483785: 5, 2147483788: 7, 2147483792: 11, 2147483807: 3, 2147483814: 8, 2147483826: 258, 2147483838: 4, 2147483899: 48, 2147483954: 28, 2147483986: 14, 2147484415: 283, 2280502777: 32, 2309493187: 6, 2486338320: 2, 2559431484: 1, 2679574624: 16, 2816938458: 309, 2866292902: 496, 2876400382: 23, 2881735837: 135, 2912289328: 460, 2966324579: 8, 3221225466: 1109, 3315046365: 1, 3489671936: 537, 3543624421: 6, 3579141922: 279, 3606837395: 24, 3612844246: 195, 3735928559: 2, 3823360506: 24, 3830324571: 201, 4031663338: 10, 4058101120: 25, 4252161664: 302, 4261412863: 16, 4294960000: 2, 4294967280: 441, 4294967285: 54, 4294967291: 77, 4294967293: 900, 4294967294: 14, 4294967295: 1}\n",
      "locktime for version 1: {'Block': {0, 834561, 834565, 834567, 834572, 834575, 834579, 832020, 834582, 834583, 832536, 834585, 834586, 832539, 834590, 834591, 834592, 834593, 833571, 834595, 834597, 834598, 834599, 834600, 834084, 834087, 834603, 833580, 834608, 834611, 834617, 834621, 834623, 834625, 834626, 834627, 834628, 832579, 834114, 834631, 834630, 834633, 834636, 834637, 833121, 834148, 832112, 18549, 832119, 9336, 834168, 833153, 833156, 833158, 833670, 834191, 832661, 834202, 834206, 834212, 834229, 834230, 832186, 832189, 4803, 821447, 832199, 833742, 833232, 22229, 16614, 832745, 833258, 833784, 273, 29971, 834324, 832286, 833319, 834348, 832302, 832814, 832304, 834354, 834357, 834358, 834359, 834361, 834366, 832833, 834370, 834369, 6468, 834371, 834378, 834380, 834383, 834385, 834404, 833898, 834412, 834414, 834417, 834418, 834421, 834424, 834425, 833405, 834431, 834432, 832386, 834435, 832903, 833416, 834441, 834442, 834443, 834444, 832910, 834447, 832400, 834449, 833939, 834451, 832405, 834453, 834455, 832408, 834457, 834458, 834459, 832412, 833945, 834462, 834463, 1450, 831919, 834489, 832958, 832960, 833995, 2514, 7124, 834018, 833001, 834538, 834539, 834540, 832492, 834542, 834543, 834544, 4081, 834545, 834547, 1007, 834037, 834550, 834551, 834554, 834557, 834559}, 'Time': {1252016260, 1577202568, 1499962505, 540037778, 1368533657, 808454426, 938289563, 1089665441, 977834663, 537045929, 547995052, 1245342895, 552120242, 819749429, 1134987456, 1062218694, 956867400, 546893007, 1710300751, 716097747, 820745172, 1619891283, 1035336920, 635650009, 1507629920, 1619116512, 1207982305, 539066723, 553247588, 539797092, 1707914858, 1134867572, 538770804, 1143079161, 749583229}}\n",
      "834637\n",
      "1710300751\n"
     ]
    }
   ],
   "source": [
    "## how many types of version are used ->\n",
    "version={\n",
    "    1:0,\n",
    "    2:0,\n",
    "    }\n",
    "\n",
    "seq_for_1={}\n",
    "\n",
    "locktime_1={\n",
    "    \"Block\":set(),\n",
    "    \"Time\":set()\n",
    "}\n",
    "max_value = (1 << 32) - 1\n",
    "for file in all_files:\n",
    "    version[(file[\"version\"])]+=1\n",
    "\n",
    "    if file[\"version\"]==1:\n",
    "        for input in file[\"vin\"]:\n",
    "            if seq_for_1.get(input[\"sequence\"])==None:\n",
    "                value= input[\"sequence\" ]\n",
    "                seq_for_1.update({value:0})\n",
    "            seq_for_1[value]+=1\n",
    "\n",
    "    locktime_value= file[\"locktime\"]\n",
    "    if locktime_value<500_000_000:\n",
    "       locktime_1[\"Block\"].add(locktime_value)\n",
    "       \n",
    "    else:\n",
    "         locktime_1[\"Time\"].add(locktime_value)         \n",
    "\n",
    "sorted_dict = dict(sorted(seq_for_1.items(), key=lambda item: item[0]))\n",
    "\n",
    "print(version)\n",
    "print(sorted_dict)\n",
    "\n",
    "print(\"locktime for version 1: {}\".format(locktime_1))\n",
    "\n",
    "# print(version.get(\"helo\"))\n",
    "print(max(locktime_1[\"Block\"])) \n",
    "print(max(locktime_1[\"Time\"])) \n",
    "\n",
    "\n",
    "\n"
   ]
  },
  {
   "cell_type": "markdown",
   "metadata": {},
   "source": [
    "### Observation->\n",
    "\n",
    "- Two version 1 and 2 are used\n",
    "- Absolute Locktime given in field in each tx -> is passed at the current -> thus all txs are unlocked to be included in the block (from abosolute locktime perpective)\n",
    "\n",
    "---\n"
   ]
  },
  {
   "cell_type": "markdown",
   "metadata": {},
   "source": [
    "- Check that wether there any tx exists which do not have any input or outputs->\n",
    "- If txId is of 32 bytes or not.\n",
    "-\n"
   ]
  },
  {
   "cell_type": "code",
   "execution_count": 12,
   "metadata": {},
   "outputs": [
    {
     "name": "stdout",
     "output_type": "stream",
     "text": [
      "vin empty: 0\n",
      "vout empty: 0\n",
      "txid irregular lenght:set()\n",
      "invalid value :0\n",
      "invalid vout value count:0\n",
      "prevout empty: 0\n",
      "scriptpubkey_empty: 0\n",
      "scriptpubkey_asm_empty: 0\n",
      "wrong_sequence_value_count: 0\n"
     ]
    }
   ],
   "source": [
    "vin_empty=0\n",
    "vout_empty=0\n",
    "txid_irregular_length=set()\n",
    "invalid_vout=0\n",
    "invalid_value=0\n",
    "empty_prevout=0\n",
    "scriptpubkey_empty=0\n",
    "scriptpubkey_asm_empty=0\n",
    "wrong_sequence_value_count=0\n",
    "\n",
    "seq_max_value = 2**32 - 1\n",
    "\n",
    "for file in all_files:\n",
    "    if len(file[\"vin\"])==0:\n",
    "        vin_empty+=1\n",
    "    if len(file[\"vout\"])==0:\n",
    "        vout_empty+=1 \n",
    "    \n",
    "    for input in file[\"vin\"]:\n",
    "\n",
    "      if len(input[\"txid\"]) != 64:\n",
    "        txid_irregular_length.add(file[\"txid\"])\n",
    "\n",
    "    \n",
    "      if input[\"prevout\"][\"value\"] <0 or input[\"prevout\"][\"value\"] > 2100000000000000:\n",
    "         invalid_value+=1\n",
    "\n",
    "      if input[\"vout\"]<0:\n",
    "         invalid_vout+=1\n",
    "\n",
    "\n",
    "      if not bool(input[\"prevout\"]):\n",
    "         empty_prevout+=1\n",
    "\n",
    "\n",
    "      if len(input[\"prevout\"][\"scriptpubkey\"]) ==0:\n",
    "         scriptpubkey_empty+=1\n",
    "\n",
    "      if len(input[\"prevout\"][\"scriptpubkey_asm\"]) ==0:\n",
    "         scriptpubkey_asm_empty+=1   \n",
    "\n",
    "      if    input[\"sequence\"] > seq_max_value or input[\"sequence\"]<0:\n",
    "         wrong_sequence_value_count+=1\n",
    "         \n",
    "         \n",
    "    for output in file[\"vout\"]:\n",
    "       if output[\"value\"] <0 or output[\"value\"] > 2100000000000000:\n",
    "         invalid_value+=1    \n",
    "\n",
    "\n",
    "       if len(output[\"scriptpubkey_asm\"]) ==0:\n",
    "         scriptpubkey_asm_empty+=1    \n",
    "\n",
    "\n",
    "print(\"vin empty: {}\".format(vin_empty))  \n",
    "print(\"vout empty: {}\".format(vout_empty)) \n",
    "print(\"txid irregular lenght:{}\".format(txid_irregular_length))\n",
    "print(\"invalid value :{}\".format(invalid_value))\n",
    "print(\"invalid vout value count:{}\".format(invalid_vout))\n",
    "print(\"prevout empty: {}\".format(empty_prevout)) \n",
    "print(\"scriptpubkey_empty: {}\".format(scriptpubkey_empty)) \n",
    "print(\"scriptpubkey_asm_empty: {}\".format(scriptpubkey_asm_empty)) \n",
    "print(\"wrong_sequence_value_count: {}\".format(wrong_sequence_value_count)) \n",
    "\n",
    "\n"
   ]
  },
  {
   "cell_type": "markdown",
   "metadata": {},
   "source": [
    "#### What is difference between scriptpubkey_address and bytes in scriptpubkey_asm ?\n",
    "\n",
    "- `scriptpubkey_address`-> address each of script\n",
    "- Bytes in asm -> use that to find the address and then match\n"
   ]
  },
  {
   "cell_type": "markdown",
   "metadata": {},
   "source": [
    "##### Basic Sanity check over:-----------------------------------------------------------------------\n"
   ]
  },
  {
   "cell_type": "markdown",
   "metadata": {},
   "source": [
    "### Check that whether scriptpubkey and scriptpubkey_asm matches or not ->\n"
   ]
  },
  {
   "cell_type": "code",
   "execution_count": null,
   "metadata": {},
   "outputs": [],
   "source": []
  },
  {
   "cell_type": "markdown",
   "metadata": {},
   "source": [
    "Sequence->\n",
    "\n",
    "- check whether the value is in the range of 4 bytes value or not\n",
    "\n",
    "- For version 1 -> no meaning of its value\n",
    "- For version 2 -> check that whether there are tx which enables relative timelock & RBF\n",
    "- Ignore `Absolute Timelock` -> as all tx in mempool are passed.\n"
   ]
  },
  {
   "cell_type": "code",
   "execution_count": 13,
   "metadata": {},
   "outputs": [],
   "source": [
    "# for file in all_files:\n",
    "#     if file[\"version\"]== 2:\n",
    "        "
   ]
  },
  {
   "cell_type": "code",
   "execution_count": 14,
   "metadata": {},
   "outputs": [],
   "source": [
    "# hex_string = \"5120727da28731cccc6f227d0200b43c384ae06e717f6f14f62f31145a8cbb145048\"\n",
    "# hex_string_without_prefix = hex_string[2:] if hex_string.startswith(\"0x\") else hex_string\n",
    "# ascii_string = bytes.fromhex(hex_string_without_prefix).decode('utf-8')\n",
    "\n",
    "# print(ascii_string)\n",
    "\n",
    "\n",
    "# stream = BytesIO(bytes.fromhex('4d04ffff001d0104455468652054696d65732030332f4a616e2f32303039204368616e63656c6c6f72206f6e206272696e6b206f66207365636f6e64206261696c6f757420666f722062616e6b73'))\n",
    "# s = Script.parse(stream)\n",
    "# stream"
   ]
  },
  {
   "cell_type": "code",
   "execution_count": 40,
   "metadata": {},
   "outputs": [
    {
     "name": "stdout",
     "output_type": "stream",
     "text": [
      "210\n",
      "162\n",
      "162\n"
     ]
    },
    {
     "ename": "NameError",
     "evalue": "name 'little_endian_to_int' is not defined",
     "output_type": "error",
     "traceback": [
      "\u001b[0;31m---------------------------------------------------------------------------\u001b[0m",
      "\u001b[0;31mNameError\u001b[0m                                 Traceback (most recent call last)",
      "Cell \u001b[0;32mIn[40], line 24\u001b[0m\n\u001b[1;32m     17\u001b[0m \u001b[38;5;28mbytes\u001b[39m\u001b[38;5;241m.\u001b[39mfromhex(hex_string)\n\u001b[1;32m     18\u001b[0m \u001b[38;5;66;03m# bytes.fromHex(hex_string)\u001b[39;00m\n\u001b[1;32m     19\u001b[0m \n\u001b[1;32m     20\u001b[0m \u001b[38;5;66;03m# int_to_little_endian(105,1)\u001b[39;00m\n\u001b[1;32m     21\u001b[0m \n\u001b[1;32m     22\u001b[0m \u001b[38;5;66;03m# int_to_little_endian\u001b[39;00m\n\u001b[0;32m---> 24\u001b[0m \u001b[43mlittle_endian_to_int\u001b[49m(\u001b[38;5;28mbytes\u001b[39m\u001b[38;5;241m.\u001b[39mfromhex(hex_string))\n",
      "\u001b[0;31mNameError\u001b[0m: name 'little_endian_to_int' is not defined"
     ]
    }
   ],
   "source": [
    "hex_string = \"5221023d7d58a83b655617b571c1891db53642eb223164469f88b5a7ceaa7dffa0b0682103a553e30733d7a8df6d390d59cc136e2c9d9cf4e808f3b6ab009beae68dd60822210327bc7b5a44643a3225f4a0fde3d0c0becefaedf33952d0499b8da55e542f79a953ae\"\n",
    "\n",
    "# len(bytes.fromhex(hex_string))\n",
    "print(len(hex_string))\n",
    "# int('69', 16)\n",
    "inter= bytes.fromhex(hex_string)\n",
    "inter= bytes.fromhex('a2')\n",
    "\n",
    "\n",
    "print(int.from_bytes(inter,'little'))\n",
    "\n",
    "\n",
    "print(int.from_bytes(inter, 'big'))\n",
    "\n",
    "\n",
    "# type(hex_string)\n",
    "bytes.fromhex(hex_string)\n",
    "# bytes.fromHex(hex_string)\n",
    "\n",
    "# int_to_little_endian(105,1)\n",
    "\n",
    "# int_to_little_endian\n",
    "\n",
    "little_endian_to_int(bytes.fromhex(hex_string))"
   ]
  },
  {
   "cell_type": "code",
   "execution_count": 16,
   "metadata": {},
   "outputs": [
    {
     "data": {
      "text/plain": [
       "b'R!\\x02=}X\\xa8;eV\\x17\\xb5q\\xc1\\x89\\x1d\\xb56B\\xeb\"1dF\\x9f\\x88\\xb5\\xa7\\xce\\xaa}\\xff\\xa0\\xb0h!\\x03\\xa5S\\xe3\\x073\\xd7\\xa8\\xdfm9\\rY\\xcc\\x13n,\\x9d\\x9c\\xf4\\xe8\\x08\\xf3\\xb6\\xab\\x00\\x9b\\xea\\xe6\\x8d\\xd6\\x08\"!\\x03\\'\\xbc{ZDd:2%\\xf4\\xa0\\xfd\\xe3\\xd0\\xc0\\xbe\\xce\\xfa\\xed\\xf39R\\xd0I\\x9b\\x8d\\xa5^T/y\\xa9S\\xae'"
      ]
     },
     "execution_count": 16,
     "metadata": {},
     "output_type": "execute_result"
    }
   ],
   "source": [
    "type(bytes)\n",
    "bytes.fromhex(hex_string)"
   ]
  },
  {
   "cell_type": "markdown",
   "metadata": {},
   "source": [
    "- Are there any tx which uses input from the coinbase tx\n"
   ]
  },
  {
   "cell_type": "code",
   "execution_count": 17,
   "metadata": {},
   "outputs": [
    {
     "data": {
      "text/plain": [
       "{False}"
      ]
     },
     "execution_count": 17,
     "metadata": {},
     "output_type": "execute_result"
    }
   ],
   "source": [
    "bool_value=set()\n",
    "for file in all_files:\n",
    "    for input in file[\"vin\"]:       \n",
    "     bool_value.add(input[\"is_coinbase\"])\n",
    "bool_value    "
   ]
  },
  {
   "cell_type": "code",
   "execution_count": null,
   "metadata": {},
   "outputs": [],
   "source": [
    "for file in all_files:\n",
    "    for input in file[\"vin\"]:\n",
    "        prevout=input[\"prevout\"]\n",
    "        if prevout[\"scriptpubkey_type\"] is in ['v0_p2wpkh','v0_p2wsh','v1_p2tr']:\n",
    "             if input[\"scriptsig\"] !=\"\" and input[\"scriptsig_asm\"]!=\"\" and input[\"witness\"] == \"\":\n",
    "                 \n",
    "            "
   ]
  },
  {
   "cell_type": "code",
   "execution_count": 6,
   "metadata": {},
   "outputs": [
    {
     "data": {
      "text/plain": [
       "True"
      ]
     },
     "execution_count": 6,
     "metadata": {},
     "output_type": "execute_result"
    }
   ],
   "source": [
    "my_dict= {\n",
    "    1:0,\n",
    "    2:8\n",
    "}\n",
    "\n",
    "# my_dict[3]\n",
    "my_dict.get(3)==None"
   ]
  },
  {
   "cell_type": "code",
   "execution_count": 7,
   "metadata": {},
   "outputs": [
    {
     "data": {
      "text/plain": [
       "set()"
      ]
     },
     "execution_count": 7,
     "metadata": {},
     "output_type": "execute_result"
    }
   ],
   "source": []
  },
  {
   "cell_type": "code",
   "execution_count": null,
   "metadata": {},
   "outputs": [],
   "source": []
  },
  {
   "cell_type": "code",
   "execution_count": null,
   "metadata": {},
   "outputs": [],
   "source": []
  }
 ],
 "metadata": {
  "kernelspec": {
   "display_name": "Python 3",
   "language": "python",
   "name": "python3"
  },
  "language_info": {
   "codemirror_mode": {
    "name": "ipython",
    "version": 3
   },
   "file_extension": ".py",
   "mimetype": "text/x-python",
   "name": "python",
   "nbconvert_exporter": "python",
   "pygments_lexer": "ipython3",
   "version": "3.11.6"
  }
 },
 "nbformat": 4,
 "nbformat_minor": 2
}
