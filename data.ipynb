{
 "cells": [
  {
   "cell_type": "code",
   "execution_count": 1,
   "metadata": {},
   "outputs": [
    {
     "name": "stdout",
     "output_type": "stream",
     "text": [
      "hello\n"
     ]
    }
   ],
   "source": [
    "print(\"hello\")"
   ]
  },
  {
   "cell_type": "code",
   "execution_count": 51,
   "metadata": {},
   "outputs": [
    {
     "name": "stdout",
     "output_type": "stream",
     "text": [
      "[{'version': 2, 'locktime': 0, 'vin': [{'txid': '64ca1941edef34b690dd6672c7d395c60882067f7f3fc396e64d88e39c1da5b4', 'vout': 0, 'prevout': {'scriptpubkey': '0014d5bfb7a6d05d44c1e14443919b30d284c0c0a10a', 'scriptpubkey_asm': 'OP_0 OP_PUSHBYTES_20 d5bfb7a6d05d44c1e14443919b30d284c0c0a10a', 'scriptpubkey_type': 'v0_p2wpkh', 'scriptpubkey_address': 'bc1q6klm0fkst4zvrc2ygwgekvxjsnqvpgg2jjfurm', 'value': 10740}, 'scriptsig': '', 'scriptsig_asm': '', 'witness': ['3044022100884219ecbb54a6ec4d09597ca6aca49692ded3c2ffb13d1858ca5b70e59fabb4021f2de73021471a01d8f03a71a923b662f00120d181d0f7fa8e06faa1bb750e8f01', '0271d4e7a84804c075017593271c370e8983f704f123d22aa747cd321268981cba'], 'is_coinbase': False, 'sequence': 4294967293}], 'vout': [{'scriptpubkey': 'a91450feb99697a4901d3fe082eca341204fb6711b9487', 'scriptpubkey_asm': 'OP_HASH160 OP_PUSHBYTES_20 50feb99697a4901d3fe082eca341204fb6711b94 OP_EQUAL', 'scriptpubkey_type': 'p2sh', 'scriptpubkey_address': '395H8VPYPtAoZWa2bx5SRyN2VojXrsb7j3', 'value': 9520}]}]\n"
     ]
    },
    {
     "data": {
      "text/plain": [
       "8131"
      ]
     },
     "execution_count": 51,
     "metadata": {},
     "output_type": "execute_result"
    }
   ],
   "source": [
    "import os\n",
    "import json\n",
    "\n",
    "from Work.Helper import *\n",
    "\n",
    "all_files= list_all_tx() \n",
    "    \n",
    "   \n",
    "   \n"
   ]
  },
  {
   "cell_type": "code",
   "execution_count": 70,
   "metadata": {},
   "outputs": [
    {
     "data": {
      "text/plain": [
       "{'op_return', 'p2pkh', 'p2sh', 'unknown', 'v0_p2wpkh', 'v0_p2wsh', 'v1_p2tr'}"
      ]
     },
     "execution_count": 70,
     "metadata": {},
     "output_type": "execute_result"
    }
   ],
   "source": [
    "scriptpubkey_types=set()\n",
    "\n",
    "for tx in all_files:\n",
    "  for section in [\"vin\", \"vout\"]:\n",
    "    for item in tx[section]:\n",
    "        if section == \"vin\":     \n",
    "          scriptpubkey_types.add(item[\"prevout\"][\"scriptpubkey_type\"])\n",
    "        else:  \n",
    "           scriptpubkey_types.add(item[\"scriptpubkey_type\"])\n",
    "scriptpubkey_types  \n",
    "          \n"
   ]
  },
  {
   "cell_type": "code",
   "execution_count": 52,
   "metadata": {},
   "outputs": [
    {
     "name": "stdout",
     "output_type": "stream",
     "text": [
      "set()\n",
      "{0}\n"
     ]
    }
   ],
   "source": [
    "# op_return -> \n",
    "op_return_in_input=set()\n",
    "op_return_in_output=set()\n",
    "\n",
    "\n",
    "\n",
    "for tx in all_files:\n",
    "  for section in [\"vin\", \"vout\"]:\n",
    "    for item in tx[section]:\n",
    "        if section == \"vin\":  \n",
    "          if (item[\"prevout\"][\"scriptpubkey_type\"])=='op_return':\n",
    "             op_return_in_input.add(item[\"prevout\"][\"value\"])\n",
    "             \n",
    "          scriptpubkey_types.add(item[\"prevout\"][\"scriptpubkey_type\"])\n",
    "        else:\n",
    "            if (item[\"scriptpubkey_type\"])=='op_return':\n",
    "             op_return_in_output.add(item[\"value\"])\n",
    "               \n",
    "print(op_return_in_input)\n",
    "print(op_return_in_output)\n"
   ]
  },
  {
   "cell_type": "code",
   "execution_count": 47,
   "metadata": {},
   "outputs": [
    {
     "name": "stdout",
     "output_type": "stream",
     "text": [
      "0\n"
     ]
    }
   ],
   "source": [
    "# is 0 value in vin -> \n",
    "count=0\n",
    "for tx in all_files:\n",
    "  for item in tx[\"vin\"]:            \n",
    "          if (item[\"prevout\"][\"value\"])==0:\n",
    "             count+=1\n",
    "             \n",
    "print(count) \n",
    "\n"
   ]
  },
  {
   "cell_type": "markdown",
   "metadata": {},
   "source": [
    "### No value 0 in input field"
   ]
  },
  {
   "cell_type": "markdown",
   "metadata": {},
   "source": []
  },
  {
   "cell_type": "code",
   "execution_count": 73,
   "metadata": {},
   "outputs": [
    {
     "name": "stdout",
     "output_type": "stream",
     "text": [
      "unknown keyword present : {'vin': 0, 'vout': 81}\n",
      "unique_commands for the unknown type at the end {'OP_CHECKMULTISIG'}\n",
      "{'ae'}\n"
     ]
    }
   ],
   "source": [
    "### First we will check that these keyword are present in both inputs and outputs field or not> \n",
    "\n",
    "\n",
    "unknown_keyword= {\n",
    "   \"vin\":0,\n",
    "   \"vout\":0\n",
    "}\n",
    "\n",
    "unique_commands_for_unknown=set()\n",
    "trial=set()\n",
    "\n",
    "for tx in all_files:\n",
    "  for section in [\"vin\", \"vout\"]:\n",
    "    for item in tx[section]:\n",
    "        if section == \"vout\" and  item[\"scriptpubkey_type\"]==\"unknown\":     \n",
    "          unknown_keyword[\"vout\"]+=1\n",
    "        if section == \"vin\" and  item[\"prevout\"][\"scriptpubkey_type\"]==\"unknown\":  \n",
    "            unknown_keyword[\"vin\"]+=1\n",
    "\n",
    "        #### In some places , \"unknown\" keyword is written inside the scriptpubkey_type \n",
    "        ### -> but it is actually Multisig as shown ->\n",
    "        \n",
    "        \n",
    "        if section == \"vout\":\n",
    "           if item[\"scriptpubkey_type\"]==\"unknown\":\n",
    "              unique_commands_for_unknown.add(item[\"scriptpubkey_asm\"].split()[-1])\n",
    "              trial.add(item[\"scriptpubkey\"][-2:])\n",
    "              \n",
    "\n",
    "print(\"unknown keyword present : {}\".format(unknown_keyword))   \n",
    "print(\"unique_commands for the unknown type at the end {}\".format(unique_commands_for_unknown))\n",
    "print(trial)\n"
   ]
  },
  {
   "cell_type": "code",
   "execution_count": 74,
   "metadata": {},
   "outputs": [],
   "source": [
    "for file in all_files:\n",
    "    for output in file[\"vout\"]:\n",
    "        script_type = output[\"scriptpubkey_type\"]\n",
    "        if script_type == \"unknown\":\n",
    "            output[\"scriptpubkey_type\"] = \"multisig\"\n"
   ]
  },
  {
   "cell_type": "code",
   "execution_count": 76,
   "metadata": {},
   "outputs": [],
   "source": [
    "import os\n",
    "import json\n",
    "\n",
    "folder_path = \"./mempool\"\n",
    "\n",
    "for filename in os.listdir(folder_path):\n",
    "    file_path = os.path.join(folder_path, filename)\n",
    "    with open(file_path, 'r') as f:\n",
    "        data = json.load(f)\n",
    "    \n",
    "    for output in data[\"vout\"]:\n",
    "        script_type = output[\"scriptpubkey_type\"]\n",
    "        if script_type == \"unknown\":\n",
    "            output[\"scriptpubkey_type\"] = \"bare-multisig\"\n",
    "    \n",
    "    with open(file_path, 'w') as f:\n",
    "        json.dump(data, f, indent=4)\n"
   ]
  },
  {
   "cell_type": "code",
   "execution_count": null,
   "metadata": {},
   "outputs": [],
   "source": []
  }
 ],
 "metadata": {
  "kernelspec": {
   "display_name": "Python 3",
   "language": "python",
   "name": "python3"
  },
  "language_info": {
   "codemirror_mode": {
    "name": "ipython",
    "version": 3
   },
   "file_extension": ".py",
   "mimetype": "text/x-python",
   "name": "python",
   "nbconvert_exporter": "python",
   "pygments_lexer": "ipython3",
   "version": "3.11.6"
  }
 },
 "nbformat": 4,
 "nbformat_minor": 2
}
