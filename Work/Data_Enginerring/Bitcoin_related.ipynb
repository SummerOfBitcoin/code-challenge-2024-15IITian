{
 "cells": [
  {
   "cell_type": "markdown",
   "metadata": {},
   "source": [
    "##### Here we will do all the data exploration which are more bitcoin specific and requires more knowledge about bitcoin ->\n"
   ]
  },
  {
   "cell_type": "code",
   "execution_count": 2,
   "metadata": {},
   "outputs": [],
   "source": [
    "import os\n",
    "import json\n",
    "import sys\n",
    "\n",
    "module_path = os.path.abspath(os.path.join('../..'))\n",
    "if module_path not in sys.path:\n",
    "    sys.path.append(module_path)\n",
    "\n",
    "from Work.Helper import list_all_tx  # Import the function from Script.py\n",
    "from Work.Script import *\n",
    "# import Opcodes\n",
    "# from Work.Helper import little_endian_to_int,list_all_tx,int_to_little_endian\n",
    "\n",
    "all_files= list_all_tx() "
   ]
  },
  {
   "cell_type": "code",
   "execution_count": 3,
   "metadata": {},
   "outputs": [
    {
     "data": {
      "text/plain": [
       "['/home/divyanshgupta/code-challenge-2024-15IITian/Work/Data_Enginerring',\n",
       " '/usr/lib64/python311.zip',\n",
       " '/usr/lib64/python3.11',\n",
       " '/usr/lib64/python3.11/lib-dynload',\n",
       " '',\n",
       " '/home/divyanshgupta/code-challenge-2024-15IITian/.venv/lib64/python3.11/site-packages',\n",
       " '/home/divyanshgupta/code-challenge-2024-15IITian/.venv/lib/python3.11/site-packages',\n",
       " '/home/divyanshgupta/code-challenge-2024-15IITian']"
      ]
     },
     "execution_count": 3,
     "metadata": {},
     "output_type": "execute_result"
    }
   ],
   "source": [
    "import sys\n",
    "sys.path"
   ]
  },
  {
   "cell_type": "markdown",
   "metadata": {},
   "source": [
    "## Analysis of txns including `P2SH`->\n"
   ]
  },
  {
   "cell_type": "code",
   "execution_count": 4,
   "metadata": {},
   "outputs": [
    {
     "name": "stdout",
     "output_type": "stream",
     "text": [
      "[]\n",
      "[]\n",
      "3634\n",
      "3672\n",
      "0\n"
     ]
    }
   ],
   "source": [
    "witness_empty=0\n",
    "witness_empty_file=[]\n",
    "redeem_witness_empty=[]\n",
    "redeem_empty_witness_present=[]\n",
    "redeem_present_witness_present=0\n",
    "psh=0\n",
    "redeem_present_witness_empty= []\n",
    "\n",
    "for file in all_files:\n",
    "   \n",
    "        for input in file['vin']:\n",
    "         \n",
    "            if input['prevout']['scriptpubkey_type']== 'p2sh':\n",
    "               psh+=1\n",
    "               if input.get(\"witness\")==None:\n",
    "                    witness_empty+=1\n",
    "                    witness_empty_file.append(file)\n",
    "                    if input.get(\"inner_redeemscript_asm\")==None:\n",
    "                         redeem_witness_empty.append(file)\n",
    "                         \n",
    "               if input.get(\"witness\")==None:\n",
    "                    witness_empty+=1\n",
    "                    witness_empty_file.append(file)\n",
    "               if input.get(\"witness\") != None and input.get(\"inner_redeemscript_asm\")==None:\n",
    "                    redeem_empty_witness_present.append(file)\n",
    "\n",
    "               if input.get(\"witness\") != None: \n",
    "                  if input.get(\"inner_redeemscript_asm\")!=None:\n",
    "                     redeem_present_witness_present+=1   \n",
    "               if input.get(\"witness\") == None and input.get(\"inner_redeemscript_asm\")==None:\n",
    "                    redeem_present_witness_empty.append(file)\n",
    "                      \n",
    "\n",
    "\n",
    "# print(witness_empty)                    \n",
    "                   \n",
    "# print(witness_empty_file[0])\n",
    "print(redeem_witness_empty)\n",
    "\n",
    "print(redeem_empty_witness_present)\n",
    "print(redeem_present_witness_present)\n",
    "print(psh)\n",
    "print(len(redeem_present_witness_empty))\n",
    "\n",
    "\n",
    "              \n"
   ]
  },
  {
   "cell_type": "markdown",
   "metadata": {},
   "source": [
    "##### Observation ->\n",
    "\n",
    "- If in all tx script type -> there is no mention of `p2sh-p2wkh` and `p2sh-p2wsh` script type.\n",
    "- Note : `P2sh` -> Total = 3672 , `p2sh` = 38 , nested_p2sh = rest\n",
    "\n",
    "\n",
    "### Idea to segreate them -> \n",
    "  - `p2sh` -> no witness  + yes(inner_redeem_script)\n",
    "  - `p2sh-p2wpkh` -> witness + inner_redeem_script - inner_witness_script\n",
    "  - `p2sh-p2wsh` -> witness + inner_redeem_script + inner_witness_script\n"
   ]
  },
  {
   "cell_type": "code",
   "execution_count": 6,
   "metadata": {},
   "outputs": [
    {
     "ename": "SyntaxError",
     "evalue": "invalid syntax (2815966488.py, line 10)",
     "output_type": "error",
     "traceback": [
      "\u001b[0;36m  Cell \u001b[0;32mIn[6], line 10\u001b[0;36m\u001b[0m\n\u001b[0;31m    if section ==\u001b[0m\n\u001b[0m                  ^\u001b[0m\n\u001b[0;31mSyntaxError\u001b[0m\u001b[0;31m:\u001b[0m invalid syntax\n"
     ]
    }
   ],
   "source": [
    "folder_path = \"./mempool\"\n",
    "\n",
    "for filename in os.listdir(folder_path):\n",
    "    file_path = os.path.join(folder_path, filename)\n",
    "    with open(file_path, 'r') as f:\n",
    "        data = json.load(f)\n",
    "    \n",
    "    for section in [\"vin\",\"vout\"]:\n",
    "      for input in data[section]:\n",
    "        if section == \"vin\":\n",
    "           script_type = input[\"prevout\"][\"scriptpubkey_type\"]\n",
    "        else:\n",
    "           script_type = input[\"scriptpubkey_type\"]\n",
    "           \n",
    "              \n",
    "           \n",
    "        \n",
    "        if script_type == \"unknown\":\n",
    "            output[\"scriptpubkey_type\"] = \"bare-multisig\"\n",
    "    \n",
    "    with open(file_path, 'w') as f:\n",
    "        json.dump(data, f, indent=4)"
   ]
  },
  {
   "cell_type": "code",
   "execution_count": null,
   "metadata": {},
   "outputs": [],
   "source": []
  },
  {
   "cell_type": "code",
   "execution_count": null,
   "metadata": {},
   "outputs": [],
   "source": []
  },
  {
   "cell_type": "code",
   "execution_count": null,
   "metadata": {},
   "outputs": [],
   "source": []
  },
  {
   "cell_type": "code",
   "execution_count": null,
   "metadata": {},
   "outputs": [],
   "source": []
  },
  {
   "cell_type": "markdown",
   "metadata": {},
   "source": [
    "**Check** witness field should not exist and script_sig not empty for legacy address and vice versa for segwit script\n"
   ]
  },
  {
   "cell_type": "code",
   "execution_count": null,
   "metadata": {},
   "outputs": [
    {
     "data": {
      "text/plain": [
       "['OP_PUSHNUM_1',\n",
       " 'OP_PUSHBYTES_32',\n",
       " '727da28731cccc6f227d0200b43c384ae06e717f6f14f62f31145a8cbb145048']"
      ]
     },
     "execution_count": 4,
     "metadata": {},
     "output_type": "execute_result"
    }
   ],
   "source": []
  },
  {
   "cell_type": "markdown",
   "metadata": {},
   "source": []
  },
  {
   "cell_type": "markdown",
   "metadata": {},
   "source": [
    "- Check whether `parse(sript_pubkey)` == `scriptpubkey_asm` or not ?\n",
    "- `parse(sript_sig)` == `scriptsig_asm`?\n",
    "- Find all opcodes used in the script for definign the function\n",
    "-\n"
   ]
  },
  {
   "cell_type": "code",
   "execution_count": null,
   "metadata": {},
   "outputs": [
    {
     "name": "stdout",
     "output_type": "stream",
     "text": [
      "0\n",
      "script_pubkey_unmatch : []\n",
      "script_sig_unmatch:[]\n",
      "all opcodes used : {'OP_PUSHBYTES_32', 'OP_PUSHBYTES_34', 'OP_PUSHBYTES_65', 'OP_PUSHBYTES_31', 'OP_DUP', 'OP_PUSHBYTES_42', 'OP_PUSHBYTES_74', 'OP_PUSHBYTES_72', 'OP_PUSHBYTES_12', 'OP_PUSHBYTES_9', 'OP_PUSHBYTES_13', 'OP_PUSHBYTES_11', 'OP_PUSHDATA1', 'OP_CHECKSIG', 'OP_CHECKMULTISIG', 'OP_PUSHNUM_3', 'OP_PUSHBYTES_69', 'OP_PUSHBYTES_46', 'OP_PUSHBYTES_73', 'OP_PUSHBYTES_64', 'OP_PUSHBYTES_4', 'OP_PUSHBYTES_17', 'OP_HASH160', 'OP_PUSHBYTES_1', 'OP_PUSHDATA2', 'OP_EQUALVERIFY', 'OP_PUSHBYTES_22', 'OP_PUSHBYTES_67', 'OP_PUSHNUM_1', 'OP_PUSHBYTES_33', 'OP_PUSHBYTES_20', 'OP_EQUAL', 'OP_PUSHBYTES_71', 'OP_PUSHBYTES_10', 'OP_PUSHBYTES_54', 'OP_0', 'OP_PUSHBYTES_63', 'OP_PUSHBYTES_70', 'OP_PUSHBYTES_68', 'OP_RETURN', 'OP_PUSHBYTES_5'}\n"
     ]
    },
    {
     "data": {
      "text/plain": [
       "41"
      ]
     },
     "execution_count": 13,
     "metadata": {},
     "output_type": "execute_result"
    }
   ],
   "source": [
    "script_pubkey_unmatch=[]\n",
    "script_sig_unmatch=[]\n",
    "all_opcodes_used = set() \n",
    "for file_index, file in enumerate(all_files):\n",
    "    for section in [\"vout\",\"vin\"]:\n",
    "        for input_index, input in enumerate(file[section]):\n",
    "            scriptpubkey_asm=\"\"\n",
    "            parsed_script_pubkey=\"\"\n",
    "            parsed_script_sig=\"\"\n",
    "            scriptsig_asm=\"\"\n",
    "            if section == \"vin\":\n",
    "                parsed_script_pubkey=  Script.parse(input[\"prevout\"][\"scriptpubkey\"])\n",
    "                parsed_script_sig= Script.parse(input[\"scriptsig\"])\n",
    "                scriptpubkey_asm= input[\"prevout\"][\"scriptpubkey_asm\"]\n",
    "                scriptsig_asm= input[\"scriptsig_asm\"]\n",
    "            else:\n",
    "                parsed_script_pubkey= Script.parse(input[\"scriptpubkey\"])\n",
    "                scriptpubkey_asm= input[\"scriptpubkey_asm\"]\n",
    "\n",
    "            if str(parsed_script_pubkey)!= scriptpubkey_asm:\n",
    "                script_pubkey_unmatch.append([file_index,section])    \n",
    "            if str(parsed_script_sig) !=  scriptsig_asm:\n",
    "                script_sig_unmatch.append([file_index,section,input_index]) \n",
    "            # finding all the opcodes used in the script ->     \n",
    "            for script_type in [scriptpubkey_asm,scriptsig_asm]:\n",
    "                for word in script_type.split():\n",
    "                    if word[:2] == \"OP\":\n",
    "                        all_opcodes_used.add(word)\n",
    "\n",
    "\n",
    "\n",
    "\n",
    "print(len(script_pubkey_unmatch))\n",
    "print(\"script_pubkey_unmatch : {}\".format(script_pubkey_unmatch))\n",
    "print(\"script_sig_unmatch:{}\".format(script_sig_unmatch))  \n",
    "print(\"all opcodes used : {}\".format(all_opcodes_used))              \n",
    "\n",
    "                \n"
   ]
  },
  {
   "cell_type": "markdown",
   "metadata": {},
   "source": [
    "#### Observation ->\n",
    "\n",
    "- `Scriptpubkey` matches with `Scriptpubkey_asm` + script_case for all txn\n",
    "- Total 41 opcodes are used -> `all_opcodes_used`\n"
   ]
  },
  {
   "cell_type": "code",
   "execution_count": null,
   "metadata": {},
   "outputs": [],
   "source": []
  },
  {
   "cell_type": "code",
   "execution_count": null,
   "metadata": {},
   "outputs": [
    {
     "data": {
      "text/plain": [
       "'OP'"
      ]
     },
     "execution_count": 11,
     "metadata": {},
     "output_type": "execute_result"
    }
   ],
   "source": [
    "a = \"OP_PUSHNUM_1\"\n",
    "a[:2]"
   ]
  },
  {
   "cell_type": "code",
   "execution_count": null,
   "metadata": {},
   "outputs": [],
   "source": []
  }
 ],
 "metadata": {
  "kernelspec": {
   "display_name": "Python 3",
   "language": "python",
   "name": "python3"
  },
  "language_info": {
   "codemirror_mode": {
    "name": "ipython",
    "version": 3
   },
   "file_extension": ".py",
   "mimetype": "text/x-python",
   "name": "python",
   "nbconvert_exporter": "python",
   "pygments_lexer": "ipython3",
   "version": "3.11.6"
  }
 },
 "nbformat": 4,
 "nbformat_minor": 2
}
